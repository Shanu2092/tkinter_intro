{
 "cells": [
  {
   "cell_type": "code",
   "execution_count": 1,
   "id": "4d932516",
   "metadata": {},
   "outputs": [],
   "source": [
    "from tkinter import *"
   ]
  },
  {
   "cell_type": "code",
   "execution_count": 27,
   "id": "362eeab0",
   "metadata": {},
   "outputs": [],
   "source": [
    "root = Tk()"
   ]
  },
  {
   "cell_type": "code",
   "execution_count": 29,
   "id": "abdca8b9",
   "metadata": {},
   "outputs": [
    {
     "data": {
      "text/plain": [
       "''"
      ]
     },
     "execution_count": 29,
     "metadata": {},
     "output_type": "execute_result"
    }
   ],
   "source": [
    "root.title(\"Portfolio\")"
   ]
  },
  {
   "cell_type": "code",
   "execution_count": 30,
   "id": "c14f3e2b",
   "metadata": {},
   "outputs": [
    {
     "data": {
      "text/plain": [
       "''"
      ]
     },
     "execution_count": 30,
     "metadata": {},
     "output_type": "execute_result"
    }
   ],
   "source": [
    "root.geometry('350x200')"
   ]
  },
  {
   "cell_type": "code",
   "execution_count": 31,
   "id": "b90b9b0c",
   "metadata": {},
   "outputs": [],
   "source": [
    "# Add label\n",
    "lbl = Label(root,text = \"Hi this is Abhinav\")\n",
    "lbl.grid()"
   ]
  },
  {
   "cell_type": "code",
   "execution_count": 16,
   "id": "1888bf86",
   "metadata": {},
   "outputs": [],
   "source": [
    "# click \n",
    "\n",
    "def clicked():\n",
    "    lbl.configure(text = \"I just got clicked\")"
   ]
  },
  {
   "cell_type": "code",
   "execution_count": 17,
   "id": "6433d9a2",
   "metadata": {},
   "outputs": [],
   "source": [
    "# Button\n",
    "\n",
    "btn = Button(root,text = \"Click here\", fg = 'green', command = clicked)\n",
    "btn.grid(column = 2,row = 0)\n",
    "root.mainloop()\n"
   ]
  },
  {
   "cell_type": "code",
   "execution_count": 25,
   "id": "99eef50e",
   "metadata": {},
   "outputs": [],
   "source": [
    "# Entry\n",
    "txt = Entry(root,width = 10)\n",
    "txt.grid(column = 0,row = 1)\n",
    "root.mainloop()\n"
   ]
  },
  {
   "cell_type": "code",
   "execution_count": 32,
   "id": "7055f9c2",
   "metadata": {},
   "outputs": [],
   "source": [
    "# Menu \n",
    "\n",
    "menu = Menu(root)\n",
    "item = Menu(menu)\n",
    "item.add_command(label = 'new')\n",
    "menu.add_cascade(label = \"file\",menu = item)\n",
    "root.config(menu = menu)\n",
    "root.mainloop()\n"
   ]
  },
  {
   "cell_type": "code",
   "execution_count": null,
   "id": "d33fa81e",
   "metadata": {},
   "outputs": [],
   "source": []
  },
  {
   "cell_type": "code",
   "execution_count": null,
   "id": "d65e21ad",
   "metadata": {},
   "outputs": [],
   "source": []
  }
 ],
 "metadata": {
  "kernelspec": {
   "display_name": "Python 3 (ipykernel)",
   "language": "python",
   "name": "python3"
  },
  "language_info": {
   "codemirror_mode": {
    "name": "ipython",
    "version": 3
   },
   "file_extension": ".py",
   "mimetype": "text/x-python",
   "name": "python",
   "nbconvert_exporter": "python",
   "pygments_lexer": "ipython3",
   "version": "3.9.7"
  }
 },
 "nbformat": 4,
 "nbformat_minor": 5
}
